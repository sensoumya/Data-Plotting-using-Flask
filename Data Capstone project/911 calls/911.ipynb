{
 "cells": [
  {
   "cell_type": "code",
   "execution_count": 1,
   "metadata": {},
   "outputs": [],
   "source": [
    "import pandas as pd\n",
    "import numpy as np\n",
    "import seaborn as sns\n",
    "import matplotlib.pyplot as plt"
   ]
  },
  {
   "cell_type": "code",
   "execution_count": 2,
   "metadata": {},
   "outputs": [],
   "source": [
    "df = pd.read_csv('911.csv')"
   ]
  },
  {
   "cell_type": "code",
   "execution_count": 3,
   "metadata": {},
   "outputs": [
    {
     "name": "stdout",
     "output_type": "stream",
     "text": [
      "<class 'pandas.core.frame.DataFrame'>\n",
      "RangeIndex: 99492 entries, 0 to 99491\n",
      "Data columns (total 9 columns):\n",
      "lat          99492 non-null float64\n",
      "lng          99492 non-null float64\n",
      "desc         99492 non-null object\n",
      "zip          86637 non-null float64\n",
      "title        99492 non-null object\n",
      "timeStamp    99492 non-null object\n",
      "twp          99449 non-null object\n",
      "addr         98973 non-null object\n",
      "e            99492 non-null int64\n",
      "dtypes: float64(3), int64(1), object(5)\n",
      "memory usage: 6.8+ MB\n"
     ]
    }
   ],
   "source": [
    "df.info()"
   ]
  },
  {
   "cell_type": "markdown",
   "metadata": {},
   "source": [
    "Top 5 zipcodes for 911 calls"
   ]
  },
  {
   "cell_type": "code",
   "execution_count": 4,
   "metadata": {},
   "outputs": [
    {
     "data": {
      "text/plain": [
       "19401.0    6979\n",
       "19464.0    6643\n",
       "19403.0    4854\n",
       "19446.0    4748\n",
       "19406.0    3174\n",
       "Name: zip, dtype: int64"
      ]
     },
     "execution_count": 4,
     "metadata": {},
     "output_type": "execute_result"
    }
   ],
   "source": [
    "df['zip'].value_counts().head(5)"
   ]
  },
  {
   "cell_type": "markdown",
   "metadata": {},
   "source": [
    "Top 5 townships (twp) for 911 calls"
   ]
  },
  {
   "cell_type": "code",
   "execution_count": 5,
   "metadata": {},
   "outputs": [
    {
     "data": {
      "text/plain": [
       "LOWER MERION    8443\n",
       "ABINGTON        5977\n",
       "NORRISTOWN      5890\n",
       "UPPER MERION    5227\n",
       "CHELTENHAM      4575\n",
       "Name: twp, dtype: int64"
      ]
     },
     "execution_count": 5,
     "metadata": {},
     "output_type": "execute_result"
    }
   ],
   "source": [
    "df['twp'].value_counts().head(5)"
   ]
  },
  {
   "cell_type": "markdown",
   "metadata": {},
   "source": [
    "Unique title codes"
   ]
  },
  {
   "cell_type": "code",
   "execution_count": 6,
   "metadata": {},
   "outputs": [
    {
     "data": {
      "text/plain": [
       "110"
      ]
     },
     "execution_count": 6,
     "metadata": {},
     "output_type": "execute_result"
    }
   ],
   "source": [
    "df['title'].nunique()"
   ]
  },
  {
   "cell_type": "markdown",
   "metadata": {},
   "source": [
    "In the titles column there are \"Reasons/Departments\" specified before the title code. These are EMS, Fire, and Traffic. Creating a new column called \"Reason\" that contains this string value."
   ]
  },
  {
   "cell_type": "code",
   "execution_count": 7,
   "metadata": {},
   "outputs": [],
   "source": [
    "df['reason'] = df['title'].apply(lambda x: x.split(':')[0])"
   ]
  },
  {
   "cell_type": "code",
   "execution_count": 8,
   "metadata": {},
   "outputs": [
    {
     "data": {
      "text/plain": [
       "array(['EMS', 'Fire', 'Traffic'], dtype=object)"
      ]
     },
     "execution_count": 8,
     "metadata": {},
     "output_type": "execute_result"
    }
   ],
   "source": [
    "df['reason'].unique()"
   ]
  },
  {
   "cell_type": "markdown",
   "metadata": {},
   "source": [
    "Most common Reason for a 911 call based off of this new column"
   ]
  },
  {
   "cell_type": "code",
   "execution_count": 9,
   "metadata": {},
   "outputs": [
    {
     "data": {
      "text/plain": [
       "EMS        48877\n",
       "Traffic    35695\n",
       "Fire       14920\n",
       "Name: reason, dtype: int64"
      ]
     },
     "execution_count": 9,
     "metadata": {},
     "output_type": "execute_result"
    }
   ],
   "source": [
    "df['reason'].value_counts()"
   ]
  },
  {
   "cell_type": "markdown",
   "metadata": {},
   "source": [
    "Countplot of 911 calls by Reason"
   ]
  },
  {
   "cell_type": "code",
   "execution_count": 10,
   "metadata": {},
   "outputs": [
    {
     "data": {
      "text/plain": [
       "<matplotlib.axes._subplots.AxesSubplot at 0xb8d9898>"
      ]
     },
     "execution_count": 10,
     "metadata": {},
     "output_type": "execute_result"
    },
    {
     "data": {
      "image/png": "[encoded data removed]",
      "text/plain": [
       "<Figure size 432x288 with 1 Axes>"
      ]
     },
     "metadata": {
      "needs_background": "light"
     },
     "output_type": "display_data"
    }
   ],
   "source": [
    "sns.countplot(data = df, x='reason', palette='viridis')"
   ]
  },
  {
   "cell_type": "markdown",
   "metadata": {},
   "source": [
    "Data type of the objects in the timeStamp column"
   ]
  },
  {
   "cell_type": "code",
   "execution_count": 11,
   "metadata": {},
   "outputs": [
    {
     "data": {
      "text/plain": [
       "str"
      ]
     },
     "execution_count": 11,
     "metadata": {},
     "output_type": "execute_result"
    }
   ],
   "source": [
    "type(df['timeStamp'].iloc[0])"
   ]
  },
  {
   "cell_type": "markdown",
   "metadata": {},
   "source": [
    "Convert timestamp column from strings to DateTime objects"
   ]
  },
  {
   "cell_type": "code",
   "execution_count": 12,
   "metadata": {},
   "outputs": [],
   "source": [
    "df['timeStamp'] = pd.to_datetime(df['timeStamp'])"
   ]
  },
  {
   "cell_type": "code",
   "execution_count": 13,
   "metadata": {},
   "outputs": [
    {
     "data": {
      "text/plain": [
       "17"
      ]
     },
     "execution_count": 13,
     "metadata": {},
     "output_type": "execute_result"
    }
   ],
   "source": [
    "time = df['timeStamp'].iloc[0]\n",
    "time.hour"
   ]
  },
  {
   "cell_type": "markdown",
   "metadata": {},
   "source": [
    "Create 3 new columns called Hour, Month, and Day of Week"
   ]
  },
  {
   "cell_type": "code",
   "execution_count": 14,
   "metadata": {},
   "outputs": [],
   "source": [
    "df['hour'] = df['timeStamp'].apply(lambda x: x.hour)\n",
    "df['month'] = df['timeStamp'].apply(lambda x: x.month)\n",
    "df['day of week'] = df['timeStamp'].apply(lambda x: x.dayofweek)"
   ]
  },
  {
   "cell_type": "code",
   "execution_count": 15,
   "metadata": {},
   "outputs": [
    {
     "data": {
      "text/html": [
       "<div>\n",
       "<style scoped>\n",
       "    .dataframe tbody tr th:only-of-type {\n",
       "        vertical-align: middle;\n",
       "    }\n",
       "\n",
       "    .dataframe tbody tr th {\n",
       "        vertical-align: top;\n",
       "    }\n",
       "\n",
       "    .dataframe thead th {\n",
       "        text-align: right;\n",
       "    }\n",
       "</style>\n",
       "<table border=\"1\" class=\"dataframe\">\n",
       "  <thead>\n",
       "    <tr style=\"text-align: right;\">\n",
       "      <th></th>\n",
       "      <th>timeStamp</th>\n",
       "      <th>hour</th>\n",
       "      <th>month</th>\n",
       "      <th>day of week</th>\n",
       "    </tr>\n",
       "  </thead>\n",
       "  <tbody>\n",
       "    <tr>\n",
       "      <th>0</th>\n",
       "      <td>2015-12-10 17:40:00</td>\n",
       "      <td>17</td>\n",
       "      <td>12</td>\n",
       "      <td>3</td>\n",
       "    </tr>\n",
       "    <tr>\n",
       "      <th>1</th>\n",
       "      <td>2015-12-10 17:40:00</td>\n",
       "      <td>17</td>\n",
       "      <td>12</td>\n",
       "      <td>3</td>\n",
       "    </tr>\n",
       "    <tr>\n",
       "      <th>2</th>\n",
       "      <td>2015-12-10 17:40:00</td>\n",
       "      <td>17</td>\n",
       "      <td>12</td>\n",
       "      <td>3</td>\n",
       "    </tr>\n",
       "    <tr>\n",
       "      <th>3</th>\n",
       "      <td>2015-12-10 17:40:01</td>\n",
       "      <td>17</td>\n",
       "      <td>12</td>\n",
       "      <td>3</td>\n",
       "    </tr>\n",
       "    <tr>\n",
       "      <th>4</th>\n",
       "      <td>2015-12-10 17:40:01</td>\n",
       "      <td>17</td>\n",
       "      <td>12</td>\n",
       "      <td>3</td>\n",
       "    </tr>\n",
       "  </tbody>\n",
       "</table>\n",
       "</div>"
      ],
      "text/plain": [
       "            timeStamp  hour  month  day of week\n",
       "0 2015-12-10 17:40:00    17     12            3\n",
       "1 2015-12-10 17:40:00    17     12            3\n",
       "2 2015-12-10 17:40:00    17     12            3\n",
       "3 2015-12-10 17:40:01    17     12            3\n",
       "4 2015-12-10 17:40:01    17     12            3"
      ]
     },
     "execution_count": 15,
     "metadata": {},
     "output_type": "execute_result"
    }
   ],
   "source": [
    "df[['timeStamp','hour','month','day of week']].head()"
   ]
  },
  {
   "cell_type": "markdown",
   "metadata": {},
   "source": [
    "Map the actual string names to the day of the week\n",
    "\n",
    "dmap = {0:'Mon',1:'Tue',2:'Wed',3:'Thu',4:'Fri',5:'Sat',6:'Sun'}"
   ]
  },
  {
   "cell_type": "code",
   "execution_count": 16,
   "metadata": {},
   "outputs": [],
   "source": [
    "dmap = {0:'Mon',1:'Tue',2:'Wed',3:'Thu',4:'Fri',5:'Sat',6:'Sun'}"
   ]
  },
  {
   "cell_type": "code",
   "execution_count": 17,
   "metadata": {},
   "outputs": [],
   "source": [
    "df['day of week'] = df['day of week'].map(dmap)"
   ]
  },
  {
   "cell_type": "code",
   "execution_count": 18,
   "metadata": {},
   "outputs": [
    {
     "data": {
      "text/plain": [
       "0    Thu\n",
       "1    Thu\n",
       "2    Thu\n",
       "3    Thu\n",
       "4    Thu\n",
       "Name: day of week, dtype: object"
      ]
     },
     "execution_count": 18,
     "metadata": {},
     "output_type": "execute_result"
    }
   ],
   "source": [
    "df['day of week'].head()"
   ]
  },
  {
   "cell_type": "markdown",
   "metadata": {},
   "source": [
    "Countplot of the Day of Week, month columns with the hue based off of the Reason column"
   ]
  },
  {
   "cell_type": "code",
   "execution_count": 19,
   "metadata": {},
   "outputs": [
    {
     "data": {
      "text/plain": [
       "<matplotlib.legend.Legend at 0xc5b9cf8>"
      ]
     },
     "execution_count": 19,
     "metadata": {},
     "output_type": "execute_result"
    },
    {
     "data": {
      "image/png": "[encoded data removed]",
      "text/plain": [
       "<Figure size 432x288 with 1 Axes>"
      ]
     },
     "metadata": {
      "needs_background": "light"
     },
     "output_type": "display_data"
    }
   ],
   "source": [
    "sns.countplot(data = df,x='day of week',hue = 'reason',palette ='viridis')\n",
    "plt.legend(bbox_to_anchor=(1.05,1),loc=2,borderaxespad=0)  #to relocate the legend"
   ]
  },
  {
   "cell_type": "code",
   "execution_count": 20,
   "metadata": {},
   "outputs": [
    {
     "data": {
      "text/plain": [
       "<matplotlib.legend.Legend at 0xaf12f60>"
      ]
     },
     "execution_count": 20,
     "metadata": {},
     "output_type": "execute_result"
    },
    {
     "data": {
      "image/png": "[encoded data removed]",
      "text/plain": [
       "<Figure size 432x288 with 1 Axes>"
      ]
     },
     "metadata": {
      "needs_background": "light"
     },
     "output_type": "display_data"
    }
   ],
   "source": [
    "sns.countplot(data = df,x='month',hue = 'reason',palette ='viridis')\n",
    "plt.legend(bbox_to_anchor=(1.05,1),loc=2,borderaxespad=0)  #to relocate the legend"
   ]
  },
  {
   "cell_type": "markdown",
   "metadata": {},
   "source": [
    "Count of each attribute group by month"
   ]
  },
  {
   "cell_type": "code",
   "execution_count": 21,
   "metadata": {},
   "outputs": [
    {
     "data": {
      "text/html": [
       "<div>\n",
       "<style scoped>\n",
       "    .dataframe tbody tr th:only-of-type {\n",
       "        vertical-align: middle;\n",
       "    }\n",
       "\n",
       "    .dataframe tbody tr th {\n",
       "        vertical-align: top;\n",
       "    }\n",
       "\n",
       "    .dataframe thead th {\n",
       "        text-align: right;\n",
       "    }\n",
       "</style>\n",
       "<table border=\"1\" class=\"dataframe\">\n",
       "  <thead>\n",
       "    <tr style=\"text-align: right;\">\n",
       "      <th></th>\n",
       "      <th>lat</th>\n",
       "      <th>lng</th>\n",
       "      <th>desc</th>\n",
       "      <th>zip</th>\n",
       "      <th>title</th>\n",
       "      <th>timeStamp</th>\n",
       "      <th>twp</th>\n",
       "      <th>addr</th>\n",
       "      <th>e</th>\n",
       "      <th>reason</th>\n",
       "      <th>hour</th>\n",
       "      <th>day of week</th>\n",
       "    </tr>\n",
       "    <tr>\n",
       "      <th>month</th>\n",
       "      <th></th>\n",
       "      <th></th>\n",
       "      <th></th>\n",
       "      <th></th>\n",
       "      <th></th>\n",
       "      <th></th>\n",
       "      <th></th>\n",
       "      <th></th>\n",
       "      <th></th>\n",
       "      <th></th>\n",
       "      <th></th>\n",
       "      <th></th>\n",
       "    </tr>\n",
       "  </thead>\n",
       "  <tbody>\n",
       "    <tr>\n",
       "      <th>1</th>\n",
       "      <td>13205</td>\n",
       "      <td>13205</td>\n",
       "      <td>13205</td>\n",
       "      <td>11527</td>\n",
       "      <td>13205</td>\n",
       "      <td>13205</td>\n",
       "      <td>13203</td>\n",
       "      <td>13096</td>\n",
       "      <td>13205</td>\n",
       "      <td>13205</td>\n",
       "      <td>13205</td>\n",
       "      <td>13205</td>\n",
       "    </tr>\n",
       "    <tr>\n",
       "      <th>2</th>\n",
       "      <td>11467</td>\n",
       "      <td>11467</td>\n",
       "      <td>11467</td>\n",
       "      <td>9930</td>\n",
       "      <td>11467</td>\n",
       "      <td>11467</td>\n",
       "      <td>11465</td>\n",
       "      <td>11396</td>\n",
       "      <td>11467</td>\n",
       "      <td>11467</td>\n",
       "      <td>11467</td>\n",
       "      <td>11467</td>\n",
       "    </tr>\n",
       "    <tr>\n",
       "      <th>3</th>\n",
       "      <td>11101</td>\n",
       "      <td>11101</td>\n",
       "      <td>11101</td>\n",
       "      <td>9755</td>\n",
       "      <td>11101</td>\n",
       "      <td>11101</td>\n",
       "      <td>11092</td>\n",
       "      <td>11059</td>\n",
       "      <td>11101</td>\n",
       "      <td>11101</td>\n",
       "      <td>11101</td>\n",
       "      <td>11101</td>\n",
       "    </tr>\n",
       "    <tr>\n",
       "      <th>4</th>\n",
       "      <td>11326</td>\n",
       "      <td>11326</td>\n",
       "      <td>11326</td>\n",
       "      <td>9895</td>\n",
       "      <td>11326</td>\n",
       "      <td>11326</td>\n",
       "      <td>11323</td>\n",
       "      <td>11283</td>\n",
       "      <td>11326</td>\n",
       "      <td>11326</td>\n",
       "      <td>11326</td>\n",
       "      <td>11326</td>\n",
       "    </tr>\n",
       "    <tr>\n",
       "      <th>5</th>\n",
       "      <td>11423</td>\n",
       "      <td>11423</td>\n",
       "      <td>11423</td>\n",
       "      <td>9946</td>\n",
       "      <td>11423</td>\n",
       "      <td>11423</td>\n",
       "      <td>11420</td>\n",
       "      <td>11378</td>\n",
       "      <td>11423</td>\n",
       "      <td>11423</td>\n",
       "      <td>11423</td>\n",
       "      <td>11423</td>\n",
       "    </tr>\n",
       "    <tr>\n",
       "      <th>6</th>\n",
       "      <td>11786</td>\n",
       "      <td>11786</td>\n",
       "      <td>11786</td>\n",
       "      <td>10212</td>\n",
       "      <td>11786</td>\n",
       "      <td>11786</td>\n",
       "      <td>11777</td>\n",
       "      <td>11732</td>\n",
       "      <td>11786</td>\n",
       "      <td>11786</td>\n",
       "      <td>11786</td>\n",
       "      <td>11786</td>\n",
       "    </tr>\n",
       "    <tr>\n",
       "      <th>7</th>\n",
       "      <td>12137</td>\n",
       "      <td>12137</td>\n",
       "      <td>12137</td>\n",
       "      <td>10633</td>\n",
       "      <td>12137</td>\n",
       "      <td>12137</td>\n",
       "      <td>12133</td>\n",
       "      <td>12088</td>\n",
       "      <td>12137</td>\n",
       "      <td>12137</td>\n",
       "      <td>12137</td>\n",
       "      <td>12137</td>\n",
       "    </tr>\n",
       "    <tr>\n",
       "      <th>8</th>\n",
       "      <td>9078</td>\n",
       "      <td>9078</td>\n",
       "      <td>9078</td>\n",
       "      <td>7832</td>\n",
       "      <td>9078</td>\n",
       "      <td>9078</td>\n",
       "      <td>9073</td>\n",
       "      <td>9025</td>\n",
       "      <td>9078</td>\n",
       "      <td>9078</td>\n",
       "      <td>9078</td>\n",
       "      <td>9078</td>\n",
       "    </tr>\n",
       "    <tr>\n",
       "      <th>12</th>\n",
       "      <td>7969</td>\n",
       "      <td>7969</td>\n",
       "      <td>7969</td>\n",
       "      <td>6907</td>\n",
       "      <td>7969</td>\n",
       "      <td>7969</td>\n",
       "      <td>7963</td>\n",
       "      <td>7916</td>\n",
       "      <td>7969</td>\n",
       "      <td>7969</td>\n",
       "      <td>7969</td>\n",
       "      <td>7969</td>\n",
       "    </tr>\n",
       "  </tbody>\n",
       "</table>\n",
       "</div>"
      ],
      "text/plain": [
       "         lat    lng   desc    zip  title  timeStamp    twp   addr      e  \\\n",
       "month                                                                      \n",
       "1      13205  13205  13205  11527  13205      13205  13203  13096  13205   \n",
       "2      11467  11467  11467   9930  11467      11467  11465  11396  11467   \n",
       "3      11101  11101  11101   9755  11101      11101  11092  11059  11101   \n",
       "4      11326  11326  11326   9895  11326      11326  11323  11283  11326   \n",
       "5      11423  11423  11423   9946  11423      11423  11420  11378  11423   \n",
       "6      11786  11786  11786  10212  11786      11786  11777  11732  11786   \n",
       "7      12137  12137  12137  10633  12137      12137  12133  12088  12137   \n",
       "8       9078   9078   9078   7832   9078       9078   9073   9025   9078   \n",
       "12      7969   7969   7969   6907   7969       7969   7963   7916   7969   \n",
       "\n",
       "       reason   hour  day of week  \n",
       "month                              \n",
       "1       13205  13205        13205  \n",
       "2       11467  11467        11467  \n",
       "3       11101  11101        11101  \n",
       "4       11326  11326        11326  \n",
       "5       11423  11423        11423  \n",
       "6       11786  11786        11786  \n",
       "7       12137  12137        12137  \n",
       "8        9078   9078         9078  \n",
       "12       7969   7969         7969  "
      ]
     },
     "execution_count": 21,
     "metadata": {},
     "output_type": "execute_result"
    }
   ],
   "source": [
    "df.groupby('month').count()"
   ]
  },
  {
   "cell_type": "markdown",
   "metadata": {},
   "source": [
    "Simple plot off of the dataframe indicating the count of calls per month"
   ]
  },
  {
   "cell_type": "code",
   "execution_count": 22,
   "metadata": {},
   "outputs": [],
   "source": [
    "bymonth = df.groupby('month').count()"
   ]
  },
  {
   "cell_type": "code",
   "execution_count": 23,
   "metadata": {},
   "outputs": [
    {
     "data": {
      "image/png": "[encoded data removed]",
      "text/plain": [
       "<Figure size 432x288 with 1 Axes>"
      ]
     },
     "metadata": {
      "needs_background": "light"
     },
     "output_type": "display_data"
    }
   ],
   "source": [
    "bymonth['lat'].plot()\n",
    "plt.grid()"
   ]
  },
  {
   "cell_type": "markdown",
   "metadata": {},
   "source": [
    "Linear fit on the number of calls per month"
   ]
  },
  {
   "cell_type": "code",
   "execution_count": 24,
   "metadata": {},
   "outputs": [
    {
     "name": "stderr",
     "output_type": "stream",
     "text": [
      "C:\\ProgramData\\Anaconda3\\lib\\site-packages\\scipy\\stats\\stats.py:1713: FutureWarning: Using a non-tuple sequence for multidimensional indexing is deprecated; use `arr[tuple(seq)]` instead of `arr[seq]`. In the future this will be interpreted as an array index, `arr[np.array(seq)]`, which will result either in an error or a different result.\n",
      "  return np.add.reduce(sorted[indexer] * weights, axis=axis) / sumval\n"
     ]
    },
    {
     "data": {
      "image/png": "[encoded data removed]",
      "text/plain": [
       "<Figure size 360x360 with 1 Axes>"
      ]
     },
     "metadata": {
      "needs_background": "light"
     },
     "output_type": "display_data"
    }
   ],
   "source": [
    "sns.lmplot(data=bymonth.reset_index(),x='month',y='lat')\n",
    "plt.grid()"
   ]
  },
  {
   "cell_type": "markdown",
   "metadata": {},
   "source": [
    "Plot of 911 call accordig to the dates"
   ]
  },
  {
   "cell_type": "code",
   "execution_count": 25,
   "metadata": {},
   "outputs": [],
   "source": [
    "df['date'] = df['timeStamp'].apply(lambda x:x.date())  #creating a date column"
   ]
  },
  {
   "cell_type": "code",
   "execution_count": 26,
   "metadata": {},
   "outputs": [
    {
     "data": {
      "image/png": "[encoded data removed]",
      "text/plain": [
       "<Figure size 432x288 with 1 Axes>"
      ]
     },
     "metadata": {
      "needs_background": "light"
     },
     "output_type": "display_data"
    }
   ],
   "source": [
    "df.groupby('date').count()['lat'].plot()\n",
    "plt.xticks(rotation=90)\n",
    "plt.tight_layout()\n",
    "plt.grid()"
   ]
  },
  {
   "cell_type": "markdown",
   "metadata": {},
   "source": [
    "3 separate plots with each plot representing a Reason for the 911 call"
   ]
  },
  {
   "cell_type": "code",
   "execution_count": 27,
   "metadata": {},
   "outputs": [
    {
     "data": {
      "image/png": "[encoded data removed]",
      "text/plain": [
       "<Figure size 432x288 with 1 Axes>"
      ]
     },
     "metadata": {
      "needs_background": "light"
     },
     "output_type": "display_data"
    }
   ],
   "source": [
    "df[df['reason']=='Traffic'].groupby('date').count()['lat'].plot()\n",
    "plt.xticks(rotation=90)\n",
    "plt.title('Traffic')\n",
    "plt.tight_layout()\n",
    "plt.grid()"
   ]
  },
  {
   "cell_type": "code",
   "execution_count": 28,
   "metadata": {},
   "outputs": [
    {
     "data": {
      "image/png": "[encoded data removed]",
      "text/plain": [
       "<Figure size 432x288 with 1 Axes>"
      ]
     },
     "metadata": {
      "needs_background": "light"
     },
     "output_type": "display_data"
    }
   ],
   "source": [
    "df[df['reason']=='Fire'].groupby('date').count()['lat'].plot()\n",
    "plt.tight_layout()\n",
    "plt.title('Fire')\n",
    "plt.xticks(rotation=90)\n",
    "plt.grid()"
   ]
  },
  {
   "cell_type": "code",
   "execution_count": 29,
   "metadata": {},
   "outputs": [
    {
     "data": {
      "image/png": "[encoded data removed]",
      "text/plain": [
       "<Figure size 432x288 with 1 Axes>"
      ]
     },
     "metadata": {
      "needs_background": "light"
     },
     "output_type": "display_data"
    }
   ],
   "source": [
    "df[df['reason']=='EMS'].groupby('date').count()['lat'].plot()\n",
    "plt.title('EMS')\n",
    "plt.xticks(rotation=90)\n",
    "plt.tight_layout()\n",
    "plt.grid()"
   ]
  },
  {
   "cell_type": "markdown",
   "metadata": {},
   "source": [
    "Restructuring the dataframe so that the columns become the Hours and the Index becomes the Day of the Week."
   ]
  },
  {
   "cell_type": "code",
   "execution_count": 30,
   "metadata": {},
   "outputs": [
    {
     "data": {
      "text/html": [
       "<div>\n",
       "<style scoped>\n",
       "    .dataframe tbody tr th:only-of-type {\n",
       "        vertical-align: middle;\n",
       "    }\n",
       "\n",
       "    .dataframe tbody tr th {\n",
       "        vertical-align: top;\n",
       "    }\n",
       "\n",
       "    .dataframe thead th {\n",
       "        text-align: right;\n",
       "    }\n",
       "</style>\n",
       "<table border=\"1\" class=\"dataframe\">\n",
       "  <thead>\n",
       "    <tr style=\"text-align: right;\">\n",
       "      <th>hour</th>\n",
       "      <th>0</th>\n",
       "      <th>1</th>\n",
       "      <th>2</th>\n",
       "      <th>3</th>\n",
       "      <th>4</th>\n",
       "      <th>5</th>\n",
       "      <th>6</th>\n",
       "      <th>7</th>\n",
       "      <th>8</th>\n",
       "      <th>9</th>\n",
       "      <th>...</th>\n",
       "      <th>14</th>\n",
       "      <th>15</th>\n",
       "      <th>16</th>\n",
       "      <th>17</th>\n",
       "      <th>18</th>\n",
       "      <th>19</th>\n",
       "      <th>20</th>\n",
       "      <th>21</th>\n",
       "      <th>22</th>\n",
       "      <th>23</th>\n",
       "    </tr>\n",
       "    <tr>\n",
       "      <th>day of week</th>\n",
       "      <th></th>\n",
       "      <th></th>\n",
       "      <th></th>\n",
       "      <th></th>\n",
       "      <th></th>\n",
       "      <th></th>\n",
       "      <th></th>\n",
       "      <th></th>\n",
       "      <th></th>\n",
       "      <th></th>\n",
       "      <th></th>\n",
       "      <th></th>\n",
       "      <th></th>\n",
       "      <th></th>\n",
       "      <th></th>\n",
       "      <th></th>\n",
       "      <th></th>\n",
       "      <th></th>\n",
       "      <th></th>\n",
       "      <th></th>\n",
       "      <th></th>\n",
       "    </tr>\n",
       "  </thead>\n",
       "  <tbody>\n",
       "    <tr>\n",
       "      <th>Fri</th>\n",
       "      <td>275</td>\n",
       "      <td>235</td>\n",
       "      <td>191</td>\n",
       "      <td>175</td>\n",
       "      <td>201</td>\n",
       "      <td>194</td>\n",
       "      <td>372</td>\n",
       "      <td>598</td>\n",
       "      <td>742</td>\n",
       "      <td>752</td>\n",
       "      <td>...</td>\n",
       "      <td>932</td>\n",
       "      <td>980</td>\n",
       "      <td>1039</td>\n",
       "      <td>980</td>\n",
       "      <td>820</td>\n",
       "      <td>696</td>\n",
       "      <td>667</td>\n",
       "      <td>559</td>\n",
       "      <td>514</td>\n",
       "      <td>474</td>\n",
       "    </tr>\n",
       "    <tr>\n",
       "      <th>Mon</th>\n",
       "      <td>282</td>\n",
       "      <td>221</td>\n",
       "      <td>201</td>\n",
       "      <td>194</td>\n",
       "      <td>204</td>\n",
       "      <td>267</td>\n",
       "      <td>397</td>\n",
       "      <td>653</td>\n",
       "      <td>819</td>\n",
       "      <td>786</td>\n",
       "      <td>...</td>\n",
       "      <td>869</td>\n",
       "      <td>913</td>\n",
       "      <td>989</td>\n",
       "      <td>997</td>\n",
       "      <td>885</td>\n",
       "      <td>746</td>\n",
       "      <td>613</td>\n",
       "      <td>497</td>\n",
       "      <td>472</td>\n",
       "      <td>325</td>\n",
       "    </tr>\n",
       "    <tr>\n",
       "      <th>Sat</th>\n",
       "      <td>375</td>\n",
       "      <td>301</td>\n",
       "      <td>263</td>\n",
       "      <td>260</td>\n",
       "      <td>224</td>\n",
       "      <td>231</td>\n",
       "      <td>257</td>\n",
       "      <td>391</td>\n",
       "      <td>459</td>\n",
       "      <td>640</td>\n",
       "      <td>...</td>\n",
       "      <td>789</td>\n",
       "      <td>796</td>\n",
       "      <td>848</td>\n",
       "      <td>757</td>\n",
       "      <td>778</td>\n",
       "      <td>696</td>\n",
       "      <td>628</td>\n",
       "      <td>572</td>\n",
       "      <td>506</td>\n",
       "      <td>467</td>\n",
       "    </tr>\n",
       "    <tr>\n",
       "      <th>Sun</th>\n",
       "      <td>383</td>\n",
       "      <td>306</td>\n",
       "      <td>286</td>\n",
       "      <td>268</td>\n",
       "      <td>242</td>\n",
       "      <td>240</td>\n",
       "      <td>300</td>\n",
       "      <td>402</td>\n",
       "      <td>483</td>\n",
       "      <td>620</td>\n",
       "      <td>...</td>\n",
       "      <td>684</td>\n",
       "      <td>691</td>\n",
       "      <td>663</td>\n",
       "      <td>714</td>\n",
       "      <td>670</td>\n",
       "      <td>655</td>\n",
       "      <td>537</td>\n",
       "      <td>461</td>\n",
       "      <td>415</td>\n",
       "      <td>330</td>\n",
       "    </tr>\n",
       "    <tr>\n",
       "      <th>Thu</th>\n",
       "      <td>278</td>\n",
       "      <td>202</td>\n",
       "      <td>233</td>\n",
       "      <td>159</td>\n",
       "      <td>182</td>\n",
       "      <td>203</td>\n",
       "      <td>362</td>\n",
       "      <td>570</td>\n",
       "      <td>777</td>\n",
       "      <td>828</td>\n",
       "      <td>...</td>\n",
       "      <td>876</td>\n",
       "      <td>969</td>\n",
       "      <td>935</td>\n",
       "      <td>1013</td>\n",
       "      <td>810</td>\n",
       "      <td>698</td>\n",
       "      <td>617</td>\n",
       "      <td>553</td>\n",
       "      <td>424</td>\n",
       "      <td>354</td>\n",
       "    </tr>\n",
       "    <tr>\n",
       "      <th>Tue</th>\n",
       "      <td>269</td>\n",
       "      <td>240</td>\n",
       "      <td>186</td>\n",
       "      <td>170</td>\n",
       "      <td>209</td>\n",
       "      <td>239</td>\n",
       "      <td>415</td>\n",
       "      <td>655</td>\n",
       "      <td>889</td>\n",
       "      <td>880</td>\n",
       "      <td>...</td>\n",
       "      <td>943</td>\n",
       "      <td>938</td>\n",
       "      <td>1026</td>\n",
       "      <td>1019</td>\n",
       "      <td>905</td>\n",
       "      <td>731</td>\n",
       "      <td>647</td>\n",
       "      <td>571</td>\n",
       "      <td>462</td>\n",
       "      <td>274</td>\n",
       "    </tr>\n",
       "    <tr>\n",
       "      <th>Wed</th>\n",
       "      <td>250</td>\n",
       "      <td>216</td>\n",
       "      <td>189</td>\n",
       "      <td>209</td>\n",
       "      <td>156</td>\n",
       "      <td>255</td>\n",
       "      <td>410</td>\n",
       "      <td>701</td>\n",
       "      <td>875</td>\n",
       "      <td>808</td>\n",
       "      <td>...</td>\n",
       "      <td>904</td>\n",
       "      <td>867</td>\n",
       "      <td>990</td>\n",
       "      <td>1037</td>\n",
       "      <td>894</td>\n",
       "      <td>686</td>\n",
       "      <td>668</td>\n",
       "      <td>575</td>\n",
       "      <td>490</td>\n",
       "      <td>335</td>\n",
       "    </tr>\n",
       "  </tbody>\n",
       "</table>\n",
       "<p>7 rows × 24 columns</p>\n",
       "</div>"
      ],
      "text/plain": [
       "hour          0    1    2    3    4    5    6    7    8    9  ...    14   15  \\\n",
       "day of week                                                   ...              \n",
       "Fri          275  235  191  175  201  194  372  598  742  752 ...   932  980   \n",
       "Mon          282  221  201  194  204  267  397  653  819  786 ...   869  913   \n",
       "Sat          375  301  263  260  224  231  257  391  459  640 ...   789  796   \n",
       "Sun          383  306  286  268  242  240  300  402  483  620 ...   684  691   \n",
       "Thu          278  202  233  159  182  203  362  570  777  828 ...   876  969   \n",
       "Tue          269  240  186  170  209  239  415  655  889  880 ...   943  938   \n",
       "Wed          250  216  189  209  156  255  410  701  875  808 ...   904  867   \n",
       "\n",
       "hour           16    17   18   19   20   21   22   23  \n",
       "day of week                                            \n",
       "Fri          1039   980  820  696  667  559  514  474  \n",
       "Mon           989   997  885  746  613  497  472  325  \n",
       "Sat           848   757  778  696  628  572  506  467  \n",
       "Sun           663   714  670  655  537  461  415  330  \n",
       "Thu           935  1013  810  698  617  553  424  354  \n",
       "Tue          1026  1019  905  731  647  571  462  274  \n",
       "Wed           990  1037  894  686  668  575  490  335  \n",
       "\n",
       "[7 rows x 24 columns]"
      ]
     },
     "execution_count": 30,
     "metadata": {},
     "output_type": "execute_result"
    }
   ],
   "source": [
    "dayHour = df.groupby(['day of week','hour']).count()['lat'].unstack()\n",
    "dayHour"
   ]
  },
  {
   "cell_type": "markdown",
   "metadata": {},
   "source": [
    "Heatmap of the above dataframe"
   ]
  },
  {
   "cell_type": "code",
   "execution_count": 31,
   "metadata": {},
   "outputs": [
    {
     "data": {
      "text/plain": [
       "<matplotlib.axes._subplots.AxesSubplot at 0xaf69780>"
      ]
     },
     "execution_count": 31,
     "metadata": {},
     "output_type": "execute_result"
    },
    {
     "data": {
      "image/png": "[encoded data removed]",
      "text/plain": [
       "<Figure size 864x432 with 2 Axes>"
      ]
     },
     "metadata": {
      "needs_background": "light"
     },
     "output_type": "display_data"
    }
   ],
   "source": [
    "plt.figure(figsize=(12,6))\n",
    "sns.heatmap(data=dayHour)"
   ]
  },
  {
   "cell_type": "markdown",
   "metadata": {},
   "source": [
    "Clustermap"
   ]
  },
  {
   "cell_type": "code",
   "execution_count": 32,
   "metadata": {},
   "outputs": [
    {
     "data": {
      "text/plain": [
       "<seaborn.matrix.ClusterGrid at 0xb2f9390>"
      ]
     },
     "execution_count": 32,
     "metadata": {},
     "output_type": "execute_result"
    },
    {
     "data": {
      "text/plain": [
       "<Figure size 864x432 with 0 Axes>"
      ]
     },
     "metadata": {},
     "output_type": "display_data"
    },
    {
     "data": {
      "image/png": "[encoded data removed]",
      "text/plain": [
       "<Figure size 720x720 with 4 Axes>"
      ]
     },
     "metadata": {
      "needs_background": "light"
     },
     "output_type": "display_data"
    }
   ],
   "source": [
    "plt.figure(figsize=(12,6))\n",
    "sns.clustermap(data=dayHour)"
   ]
  },
  {
   "cell_type": "markdown",
   "metadata": {},
   "source": [
    "Same plots and operations, for a DataFrame that shows the Month as the column"
   ]
  },
  {
   "cell_type": "code",
   "execution_count": 33,
   "metadata": {},
   "outputs": [
    {
     "data": {
      "text/html": [
       "<div>\n",
       "<style scoped>\n",
       "    .dataframe tbody tr th:only-of-type {\n",
       "        vertical-align: middle;\n",
       "    }\n",
       "\n",
       "    .dataframe tbody tr th {\n",
       "        vertical-align: top;\n",
       "    }\n",
       "\n",
       "    .dataframe thead th {\n",
       "        text-align: right;\n",
       "    }\n",
       "</style>\n",
       "<table border=\"1\" class=\"dataframe\">\n",
       "  <thead>\n",
       "    <tr style=\"text-align: right;\">\n",
       "      <th>month</th>\n",
       "      <th>1</th>\n",
       "      <th>2</th>\n",
       "      <th>3</th>\n",
       "      <th>4</th>\n",
       "      <th>5</th>\n",
       "      <th>6</th>\n",
       "      <th>7</th>\n",
       "      <th>8</th>\n",
       "      <th>12</th>\n",
       "    </tr>\n",
       "    <tr>\n",
       "      <th>day of week</th>\n",
       "      <th></th>\n",
       "      <th></th>\n",
       "      <th></th>\n",
       "      <th></th>\n",
       "      <th></th>\n",
       "      <th></th>\n",
       "      <th></th>\n",
       "      <th></th>\n",
       "      <th></th>\n",
       "    </tr>\n",
       "  </thead>\n",
       "  <tbody>\n",
       "    <tr>\n",
       "      <th>Fri</th>\n",
       "      <td>1970</td>\n",
       "      <td>1581</td>\n",
       "      <td>1525</td>\n",
       "      <td>1958</td>\n",
       "      <td>1730</td>\n",
       "      <td>1649</td>\n",
       "      <td>2045</td>\n",
       "      <td>1310</td>\n",
       "      <td>1065</td>\n",
       "    </tr>\n",
       "    <tr>\n",
       "      <th>Mon</th>\n",
       "      <td>1727</td>\n",
       "      <td>1964</td>\n",
       "      <td>1535</td>\n",
       "      <td>1598</td>\n",
       "      <td>1779</td>\n",
       "      <td>1617</td>\n",
       "      <td>1692</td>\n",
       "      <td>1511</td>\n",
       "      <td>1257</td>\n",
       "    </tr>\n",
       "    <tr>\n",
       "      <th>Sat</th>\n",
       "      <td>2291</td>\n",
       "      <td>1441</td>\n",
       "      <td>1266</td>\n",
       "      <td>1734</td>\n",
       "      <td>1444</td>\n",
       "      <td>1388</td>\n",
       "      <td>1695</td>\n",
       "      <td>1099</td>\n",
       "      <td>978</td>\n",
       "    </tr>\n",
       "    <tr>\n",
       "      <th>Sun</th>\n",
       "      <td>1960</td>\n",
       "      <td>1229</td>\n",
       "      <td>1102</td>\n",
       "      <td>1488</td>\n",
       "      <td>1424</td>\n",
       "      <td>1333</td>\n",
       "      <td>1672</td>\n",
       "      <td>1021</td>\n",
       "      <td>907</td>\n",
       "    </tr>\n",
       "    <tr>\n",
       "      <th>Thu</th>\n",
       "      <td>1584</td>\n",
       "      <td>1596</td>\n",
       "      <td>1900</td>\n",
       "      <td>1601</td>\n",
       "      <td>1590</td>\n",
       "      <td>2065</td>\n",
       "      <td>1646</td>\n",
       "      <td>1230</td>\n",
       "      <td>1266</td>\n",
       "    </tr>\n",
       "    <tr>\n",
       "      <th>Tue</th>\n",
       "      <td>1973</td>\n",
       "      <td>1753</td>\n",
       "      <td>1884</td>\n",
       "      <td>1430</td>\n",
       "      <td>1918</td>\n",
       "      <td>1676</td>\n",
       "      <td>1670</td>\n",
       "      <td>1612</td>\n",
       "      <td>1234</td>\n",
       "    </tr>\n",
       "    <tr>\n",
       "      <th>Wed</th>\n",
       "      <td>1700</td>\n",
       "      <td>1903</td>\n",
       "      <td>1889</td>\n",
       "      <td>1517</td>\n",
       "      <td>1538</td>\n",
       "      <td>2058</td>\n",
       "      <td>1717</td>\n",
       "      <td>1295</td>\n",
       "      <td>1262</td>\n",
       "    </tr>\n",
       "  </tbody>\n",
       "</table>\n",
       "</div>"
      ],
      "text/plain": [
       "month          1     2     3     4     5     6     7     8     12\n",
       "day of week                                                      \n",
       "Fri          1970  1581  1525  1958  1730  1649  2045  1310  1065\n",
       "Mon          1727  1964  1535  1598  1779  1617  1692  1511  1257\n",
       "Sat          2291  1441  1266  1734  1444  1388  1695  1099   978\n",
       "Sun          1960  1229  1102  1488  1424  1333  1672  1021   907\n",
       "Thu          1584  1596  1900  1601  1590  2065  1646  1230  1266\n",
       "Tue          1973  1753  1884  1430  1918  1676  1670  1612  1234\n",
       "Wed          1700  1903  1889  1517  1538  2058  1717  1295  1262"
      ]
     },
     "execution_count": 33,
     "metadata": {},
     "output_type": "execute_result"
    }
   ],
   "source": [
    "dayMonth = df.groupby(['day of week','month']).count()['lat'].unstack()\n",
    "dayMonth"
   ]
  },
  {
   "cell_type": "code",
   "execution_count": 34,
   "metadata": {},
   "outputs": [
    {
     "data": {
      "text/plain": [
       "<matplotlib.axes._subplots.AxesSubplot at 0xc542860>"
      ]
     },
     "execution_count": 34,
     "metadata": {},
     "output_type": "execute_result"
    },
    {
     "data": {
      "image/png": "[encoded data removed]",
      "text/plain": [
       "<Figure size 864x432 with 2 Axes>"
      ]
     },
     "metadata": {
      "needs_background": "light"
     },
     "output_type": "display_data"
    }
   ],
   "source": [
    "plt.figure(figsize=(12,6))\n",
    "sns.heatmap(data=dayMonth)"
   ]
  },
  {
   "cell_type": "code",
   "execution_count": 35,
   "metadata": {},
   "outputs": [
    {
     "data": {
      "text/plain": [
       "<seaborn.matrix.ClusterGrid at 0xceeff60>"
      ]
     },
     "execution_count": 35,
     "metadata": {},
     "output_type": "execute_result"
    },
    {
     "data": {
      "text/plain": [
       "<Figure size 864x432 with 0 Axes>"
      ]
     },
     "metadata": {},
     "output_type": "display_data"
    },
    {
     "data": {
      "image/png": "[encoded data removed]",
      "text/plain": [
       "<Figure size 720x720 with 4 Axes>"
      ]
     },
     "metadata": {
      "needs_background": "light"
     },
     "output_type": "display_data"
    }
   ],
   "source": [
    "plt.figure(figsize=(12,6))\n",
    "sns.clustermap(data=dayMonth)"
   ]
  }
 ],
 "metadata": {
  "kernelspec": {
   "display_name": "Python 3",
   "language": "python",
   "name": "python3"
  },
  "language_info": {
   "codemirror_mode": {
    "name": "ipython",
    "version": 3
   },
   "file_extension": ".py",
   "mimetype": "text/x-python",
   "name": "python",
   "nbconvert_exporter": "python",
   "pygments_lexer": "ipython3",
   "version": "3.7.1"
  }
 },
 "nbformat": 4,
 "nbformat_minor": 2
}
